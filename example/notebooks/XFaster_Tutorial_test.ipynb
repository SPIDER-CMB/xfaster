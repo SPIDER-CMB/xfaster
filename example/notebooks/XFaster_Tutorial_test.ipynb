{
 "cells": [
  {
   "cell_type": "markdown",
   "metadata": {},
   "source": [
    "# XFaster Tutorial Test"
   ]
  },
  {
   "cell_type": "markdown",
   "metadata": {},
   "source": [
    "**A. Gambrel and A. Rahlin | Last updated: 4/21/21**\n",
    "***"
   ]
  },
  {
   "cell_type": "markdown",
   "metadata": {},
   "source": [
    "**There are three primary goals of this guide:**\n",
    "1. To explain the math of how XFaster works.\n",
    "2. To show how that math is implemented in the code.\n",
    "3. To show how to use the code and interact with its outputs.\n",
    "\n",
    "This guide will step through the XFaster algorithm showing the math and what it looks like in its code implementation. Because XFaster takes a while to process through all the maps it takes as input, this notebook is not intended to be run by individual users. \n",
    "\n",
    "Much of this guide is copied directly from the materials in [the XFaster wiki reference](http://spiderwiki.princeton.edu/wiki/ReferenceDocuments/XFaster)."
   ]
  },
  {
   "cell_type": "markdown",
   "metadata": {},
   "source": [
    "## How we get to the equations we ultimately want to solve"
   ]
  },
  {
   "cell_type": "markdown",
   "metadata": {},
   "source": [
    "XFaster is a hybrid of two types of estimators: a pseudo-$C_\\ell$ Monte Carlo estimator a la MASTER and PolSPICE, and a quadratic estimator. The latter is the special sauce, so we'll go into some detail about it here.\n",
    "\n",
    "First, we'll introduce the Newton method for iteratively finding the root of a function. There are helpful pictures to visualize how this method works [on wikipedia](https://en.wikipedia.org/wiki/Newton%27s_method). Say you have some continuous function, $f$, and your initial guess for its root is $x_0$. We can Taylor expand $f$ around this guess like so:\n",
    "\n",
    "\\begin{equation}\n",
    "f\\left(x_{0}+\\epsilon\\right)=f\\left(x_{0}\\right)+f^{\\prime}\\left(x_{0}\\right) \\epsilon+\\frac{1}{2} f^{\\prime \\prime}\\left(x_{0}\\right) \\epsilon^{2}+\\ldots\n",
    "\\end{equation}\n",
    "\n",
    "And to first order, \n",
    "\\begin{equation}\n",
    "f\\left(x_{0}+\\epsilon\\right) \\approx f\\left(x_{0}\\right)+f^{\\prime}\\left(x_{0}\\right) \\epsilon\n",
    "\\end{equation}\n",
    "\n",
    "We set the left side to zero, and solve for the step size for the next iteration:\n",
    "\n",
    "\\begin{equation}\n",
    "\\epsilon_{0}=-\\frac{f\\left(x_{0}\\right)}{f^{\\prime}\\left(x_{0}\\right)}\n",
    "\\end{equation}\n",
    "\n",
    "We solve for $f$ and $f'$ at the new guess, and continue the iteration, where the forumula for each next guess of the root is:\n",
    "\n",
    "\\begin{equation}\n",
    "x_{n+1}=x_{n}+\\epsilon_{n}=x_{n}-\\frac{f\\left(x_{n}\\right)}{f^{\\prime}\\left(x_{n}\\right)}\n",
    "\\end{equation}\n",
    "\n",
    "A major caveat with using this method is that if the derivative goes to zero near the starting or final root guess, things blow up and it will not converge. However, if the function is well behaved, and the initial guess is close enough, it can be shown that this method converges quadratically.\n",
    "\n",
    "Ultimately, XFaster isn't going to solve for a root; it's going to find the extreme of some function. So instead of finding where $f=0$, we want to find where its first derivative goes to 0. So now we're going to take the first derivative of equation 1 and set it equal to 0:\n",
    "\n",
    "\\begin{equation}\n",
    "0=\\frac{d}{dx}\\left(f\\left(x_{0}\\right)+f^{\\prime}\\left(x_{0}\\right) \\epsilon_{0}+\\frac{1}{2} f^{\\prime \\prime}\\left(x_{0}\\right) \\epsilon_{0}^{2}\\right)=f^{\\prime}\\left(x_{0}\\right)+f^{\\prime \\prime}\\left(x_{0}\\right) \\epsilon_{0}\n",
    "\\end{equation}\n",
    "\n",
    "where we're throwing out terms higher than second derivative. Now, our step size is given by\n",
    "\n",
    "\\begin{equation}\n",
    "\\epsilon_{0}=-\\frac{f^{\\prime}\\left(x_{0}\\right)}{f^{\\prime \\prime}\\left(x_{0}\\right)}\n",
    "\\end{equation}\n",
    "\n",
    "Extending this method to multiple variables, the first derivative becomes a gradient, and the second derivative becomes the Hessian:\n",
    "\n",
    "\\begin{equation}\n",
    "\\mathbf{H}=\\left[\\begin{array}{cccc}{\\frac{\\partial^{2} f}{\\partial x_{1}^{2}}} & {\\frac{\\partial^{2} f}{\\partial x_{1} \\partial x_{2}}} & {\\cdots} & {\\frac{\\partial^{2} f}{\\partial x_{1} \\partial x_{n}}} \\\\ {\\frac{\\partial^{2} f}{\\partial x_{2} \\partial x_{1}}} & {\\frac{\\partial^{2} f}{\\partial x_{2}^{2}}} & {\\cdots} & {\\frac{\\partial^{2} f}{\\partial x_{2} \\partial x_{n}}} \\\\ {\\vdots} & {\\vdots} & {\\ddots} & {\\vdots} \\\\ {\\frac{\\partial^{2} f}{\\partial x_{n} \\partial x_{1}}} & {\\frac{\\partial^{2} f}{\\partial x_{n} \\partial x_{2}}} & {\\cdots} & {\\frac{\\partial^{2} f}{\\partial x_{n}^{2}}}\\end{array}\\right]\n",
    "\\end{equation}\n",
    "\n",
    "for an expression for the local extremum of \n",
    "\n",
    "\\begin{equation}\n",
    "x^1_{n}=x^0_{n}-\\mathbf{H}^{-1} \\nabla f\\left(x^0_{n}\\right)\n",
    "\\label{eq:step}\n",
    "\\end{equation}\n",
    "\n",
    "Because it's costly to compute $H$ for each iteration, we can instead make the approximation of using its expectation value, which does not depend on the data. This is equivalent to the Fisher information matrix:\n",
    "\n",
    "\\begin{equation}\n",
    "\\mathcal{F}_{i j}=\\left\\langle\\mathbf{H}_{i j}\\right\\rangle=\\left\\langle\\frac{\\partial^{2} f}{\\partial x_{i} \\partial x_{j}}\\right\\rangle\n",
    "\\label{eq:fish_approx}\n",
    "\\end{equation}"
   ]
  },
  {
   "cell_type": "markdown",
   "metadata": {},
   "source": [
    "This has all so far been an abstract exercise in how to find the values of the variables that maximize some function that depends on them. Now let's get into what XFaster uses it for, maximizing the likelihood function, which we approximate to be Gaussian:\n",
    "\n",
    "\\begin{equation}\n",
    "\\mathcal{L}(\\mathbf{d} | \\theta)=\\frac{1}{|2 \\pi \\mathbf{C}|^{1 / 2}} \\exp \\left(-\\frac{1}{2} \\mathbf{d} \\cdot \\mathbf{C}^{-1} \\cdot \\mathbf{d}^{T}\\right)\n",
    "\\end{equation}\n",
    "\n",
    "where $\\mathbf{d}$ is an observed data set, $\\theta$ are the model parameters, and $\\mathbf{C}$ is the covariance matrix, which depends on the model parameters: $\\textbf{C}(\\theta)=\\textbf{S}(\\theta)+\\textbf{N}$, where $\\textbf{S}$ is signal and $\\textbf{N}$ is noise.\n",
    "\n",
    "For XFaster, our parameters, $\\theta$ that will be fit to the data are the bandpowers, $\\mathcal{C}_\\ell$. We want to maximize the log likelihood (so we can take derivatives more easily and since it is maximized where the likelihood is maximized), so we can use Equation $\\ref{eq:step}$ and the Fisher approximation of Equation $\\ref{eq:fish_approx}$ to write down the size of the step we need from our initial bandpower guess:\n",
    "\n",
    "\\begin{equation}\n",
    "\\delta \\mathcal{C}_{\\ell}=\\frac{1}{2} \\sum_{\\ell^\\prime} \\mathcal{F}_{\\ell \\ell^{\\prime}}^{-1} \\operatorname{Tr}\\left[\\left(\\mathbf{C}^{-1} \\frac{\\partial \\mathbf{S}}{\\partial \\mathcal{C}_{\\ell}} \\mathbf{C}^{-1}\\right)\\left(\\mathbf{d} \\mathbf{d}^{T}-\\mathbf{C}\\right)\\right]\n",
    "\\label{eq:cell}\n",
    "\\end{equation}\n",
    "\n",
    "\\begin{equation}\n",
    "\\mathcal{F}_{\\ell \\ell^{\\prime}}=\\frac{1}{2} \\operatorname{Tr}\\left[\\mathbf{C}^{-1} \\frac{\\partial \\mathbf{S}}{\\partial \\mathcal{C}_{\\ell}} \\mathbf{C}^{-1} \\frac{\\partial \\mathbf{S}}{\\partial \\mathcal{C}_{\\ell^{\\prime}}} \\right]\n",
    "\\label{eq:fisher_ell}\n",
    "\\end{equation}\n",
    "\n",
    "where I've left out all the math to get the first and second derivatives. **Note: I will use $\\mathcal{C}$ for bandpowers and $C$ for covariance. Similarly, the Fisher matrix will be $\\mathcal{F}$ and the transfer function will be $F$.** "
   ]
  },
  {
   "cell_type": "markdown",
   "metadata": {},
   "source": [
    "Now, instead of iterating on the steps toward the maximum, XFaster iterates towards the bandpowers themselves. It does this by reconfiguring the second term in the trace in Equation $\\ref{eq:cell}$, which should iteratively get closer to zero, and instead reformats it to be the estimate of the measured signal:\n",
    "\n",
    "\\begin{equation}\n",
    "\\mathcal{C}_{\\ell}=\\frac{1}{2} \\sum_{\\ell'} \\mathcal{F}_{\\ell \\ell^{\\prime}}^{-1} \\operatorname{Tr}\\left[\\left(\\mathbf{C_{\\ell'}}^{-1} \\frac{\\partial \\mathbf{S_{\\ell'}}}{\\partial \\mathcal{C}_{\\ell'}} \\mathbf{C_{\\ell'}}^{-1}\\right)\\left(\\mathbf{C}_{\\ell'}^{o b s}-\\langle\\mathbf{N_{\\ell'}}\\rangle\\right)\\right]\n",
    "\\end{equation}\n",
    "\n",
    "where the $\\langle\\mathbf{N}\\rangle\\$ is the ensemble average of the noise simulations, needed to debias the total covariance of the data to leave an estimate of signal alone."
   ]
  },
  {
   "cell_type": "markdown",
   "metadata": {},
   "source": [
    "From here, XFaster makes a few more approximations to make the matrix operations manageable. We approximate our noise to be diagonal and uncorrelated with signal, and the signal will be averaged into bins to reduce correlations among modes from using less than the full sky. So now, the covariance for the cut sky is approximated as:\n",
    "\n",
    "\\begin{equation}\n",
    "\\tilde{C}_{\\ell m, \\ell^{\\prime} m^{\\prime}}=\\delta_{\\ell \\ell^{\\prime}} \\delta_{m m^{\\prime}}\\left(\\tilde{\\mathcal{C}}_{\\ell}+\\left\\langle\\tilde{N}_{\\ell}\\right\\rangle\\right)\n",
    "\\end{equation}\n",
    "\n",
    "The thing that our instrument measures is this pseudo-$\\tilde{\\mathcal{C}}_\\ell$ spectrum. We ultimately want to know the full sky power spectrum, $\\mathcal{C}_\\ell$. For TT, for example, that's related to our measured $\\tilde{\\mathcal{C}}_\\ell$s by\n",
    "\n",
    "\\begin{equation}\n",
    "\\tilde{\\mathcal{C}}_{\\ell}^{TT}=\\sum_{\\ell^{\\prime}} K_{\\ell \\ell^{\\prime}}^{TT} F_{\\ell^{\\prime}}^{TT} B_{\\ell^{\\prime}}^{2} \\mathcal{C}_{\\ell^{\\prime}}^{TT}\n",
    "\\end{equation}\n",
    "\n",
    "where  $K_{\\ell, \\ell'}$ is the coupling kernel that accounts for mode mixing due to the non-orthogonality of the spherical harmonic basis on the cut sky, $F_\\ell$ is the filter transfer function, and $B_\\ell$ is the beam window function."
   ]
  },
  {
   "cell_type": "markdown",
   "metadata": {},
   "source": [
    "This is written on an $\\ell$ by $\\ell$ basis, but in practice we'll want to bin to reduce signal correlations and increase signal to noise, so we add the binning operator $\\chi_b$:\n",
    "\n",
    "\\begin{equation}\n",
    "\\tilde{\\mathcal{C}}_{\\ell}^{TT}=\\sum_b q_b \\sum_{\\ell^{\\prime}} K_{\\ell \\ell^{\\prime}}^{TT} F_{\\ell^{\\prime}}^{TT} B_{\\ell^{\\prime}}^{2} \\mathcal{C}_{\\ell^{\\prime}}^{TT} \\chi_{b}\\left(\\ell^{\\prime}\\right)\n",
    "\\end{equation}\n",
    "\n",
    "where I've now added in a coefficient, $q_b$, which accounts for any deviation of our measured bandpowers from the signal we expect our instrument to have measured. In practice, $q_b$ is actually what XFaster solves for. So now, instead of using $\\mathcal{C}_\\ell$ as the parameter we are optimizing, we instead solve for the maximum likelihood with respect to the bandpower deviations, $q_b$:\n",
    "\n",
    "\\begin{equation}\n",
    "q_{b}=\\frac{1}{2} \\sum_{b^{\\prime}} \\mathcal{F}_{b b^{\\prime}}^{-1} \\sum_{\\ell} (2 \\ell+1) \\operatorname{Tr}\\left[ \\left(\\tilde{\\mathbf{D}}_{\\ell}^{-1} \\frac{\\partial \\tilde{\\mathbf{S}}_{\\ell}}{\\partial q_{b^{\\prime}}} \\tilde{\\mathbf{D}}_{\\ell}^{-1}\\right)\\mathbf{g}\\left(\\tilde{\\mathbf{D}}_{\\ell}^{o b s}-\\tilde{\\mathbf{N}}_{\\ell}\\right)\\mathbf{g}^T\\right]\n",
    "\\label{eq:qb}\n",
    "\\end{equation}\n",
    "\n",
    "\\begin{equation}\n",
    "\\mathcal{F}_{b b^{\\prime}}=\\frac{1}{2} \\sum_{\\ell} (2 \\ell+1)\\operatorname{Tr}\\left[\\tilde{\\mathbf{D}}_{\\ell}^{-1} \\frac{\\partial \\tilde{\\mathbf{S}}_{\\ell}}{\\partial q_{b}} \\tilde{\\mathbf{D}}_{\\ell}^{-1} \\mathbf{g}\\frac{\\partial \\tilde{\\mathbf{S}}_{\\ell}}{\\partial q_{b^{\\prime}}}\\mathbf{g}^T\\right]\n",
    "\\label{eq:fisher}\n",
    "\\end{equation}\n",
    "\n",
    "where now instead of solving for just TT for one map, I'm generalizing to a matrix form where \n",
    "\n",
    "\\begin{equation}\n",
    "\\tilde{\\mathbf{D}}_{\\ell}=\n",
    "\\begin{bmatrix}\n",
    "\\tilde{\\mathbf{D}}_{\\ell}^{1x1} & \\tilde{\\mathbf{D}}_{\\ell}^{1x2} & \\tilde{\\mathbf{D}}_{\\ell}^{1x3} & \\cdots & \\tilde{\\mathbf{D}}_{\\ell}^{1xN} \\\\ \n",
    "\\tilde{\\mathbf{D}}_{\\ell}^{2x1} & \\tilde{\\mathbf{D}}_{\\ell}^{2x2} & \\tilde{\\mathbf{D}}_{\\ell}^{2x3} & \\cdots & \\vdots \\\\ \n",
    "\\tilde{\\mathbf{D}}_{\\ell}^{3x1} & \\tilde{\\mathbf{D}}_{\\ell}^{3x2} & \\tilde{\\mathbf{D}}_{\\ell}^{3x3} & \\cdots & \\vdots \\\\\n",
    "\\vdots & \\vdots & \\vdots & \\ddots & \\vdots \\\\\n",
    "\\tilde{\\mathbf{D}}_{\\ell}^{Nx1} & \\cdots & \\cdots & \\cdots & \\tilde{\\mathbf{D}}_{\\ell}^{NxN}\\\\\n",
    "\\end{bmatrix}\n",
    "\\label{eq:dell}\n",
    "\\end{equation}\n",
    "\n",
    "where $N$ is the number of maps, and each element of the above matrix is a 3x3 subblock of $\\tilde{C}_\\ell$s for that map cross (*note: this the the full covariance, $\\tilde{C}_\\ell$, not only the signal part, $\\tilde{\\mathcal{C}}_\\ell$*):\n",
    "\\begin{equation}\n",
    "\\tilde{\\mathbf{D}}_{\\ell}^{1\\times 1}=\\left[\\begin{array}{ccc}{\\tilde{\\mathrm{C}}_{\\ell}^{T T}} & {\\tilde{\\mathrm{C}}_{\\ell}^{T E}} & {\\tilde{\\mathrm{C}}_{\\ell}^{T B}} \\\\ {\\tilde{\\mathrm{C}}_{\\ell}^{T E}} & {\\tilde{\\mathrm{C}}_{\\ell}^{E E}} & {\\tilde{\\mathrm{C}}_{\\ell}^{E B}} \\\\ {\\tilde{\\mathrm{C}}_{\\ell}^{T B}} & {\\tilde{\\mathrm{C}}_{\\ell}^{E B}} & {\\tilde{\\mathrm{C}}_{\\ell}^{B B}}\\end{array}\\right]_{1\\times 1}\n",
    "\\end{equation}\n",
    "\n",
    "We've also reduced the trace over $\\ell$ in equations \\ref{eq:cell} and \\ref{eq:fisher_ell} to the number of modes we measure, assuming isotropy: $\\sum_{\\ell}(2\\ell+1)\\mathbf{gg}^T$, where $g$ is a weighting factor accounting for the effective number of degrees of freedom of the map.  And the trace in equations \\ref{eq:qb} and \\ref{eq:fisher} is over the various map cross spectrum components."
   ]
  },
  {
   "cell_type": "markdown",
   "metadata": {},
   "source": [
    "There is some complication that arises from building the non-TT components of the signal covariance, which is that there is mixing between T$\\leftrightarrow$E,B and E$\\leftrightarrow$B caused by the masking. We account for this with the proper combination of shape operators, $\\tilde{\\mathcal{C}}_{b\\ell}$, along with their associated amplitudes, where the shape operators are defined below:\n",
    "\n",
    "\\begin{equation}\n",
    "\\begin{aligned}\n",
    "\\tilde{\\mathcal{C}}_{b \\ell}^{T T}&=\\sum_{\\ell^{\\prime}} K_{\\ell \\ell^{\\prime}} F_{\\ell^{\\prime}}^{T T} B_{\\ell^{\\prime}}^{2} \\mathcal{C}_{\\ell^{\\prime}}^{TT} \\chi_{b}\\left(\\ell^{\\prime}\\right) \\\\\n",
    "{}_\\pm \\tilde{\\mathcal{C}}_{b \\ell}^{EE}&=\\sum_{\\ell^{\\prime}} {}_\\pm K_{\\ell \\ell^{\\prime}} F_{\\ell^{\\prime}}^{EE} B_{\\ell^{\\prime}}^{2} \\mathcal{C}_{\\ell^{\\prime}}^{EE} \\chi_{b}\\left(\\ell^{\\prime}\\right) \\\\\n",
    "{}_\\pm \\tilde{\\mathcal{C}}_{b \\ell}^{BB}&=\\sum_{\\ell^{\\prime}} {}_\\pm K_{\\ell \\ell^{\\prime}} F_{\\ell^{\\prime}}^{BB} B_{\\ell^{\\prime}}^{2} \\mathcal{C}_{\\ell^{\\prime}}^{BB} \\chi_{b}\\left(\\ell^{\\prime}\\right) \\\\\n",
    "\\tilde{\\mathcal{C}}_{b \\ell}^{TE}&=\\sum_{\\ell^{\\prime}} {}_\\times K_{\\ell \\ell^{\\prime}} F_{\\ell^{\\prime}}^{TE} B_{\\ell^{\\prime}}^{2} \\mathcal{C}_{\\ell^{\\prime}}^{TE} \\chi_{b}\\left(\\ell^{\\prime}\\right) \\\\\n",
    "\\tilde{\\mathcal{C}}_{b \\ell}^{TB}&=\\sum_{\\ell^{\\prime}} {}_\\times K_{\\ell \\ell^{\\prime}} F_{\\ell^{\\prime}}^{TB} B_{\\ell^{\\prime}}^{2} \\mathcal{C}_{\\ell^{\\prime}}^{TB} \\chi_{b}\\left(\\ell^{\\prime}\\right) \\\\\n",
    "\\tilde{\\mathcal{C}}_{b \\ell}^{EB}&=\\sum_{\\ell^{\\prime}} ({}_+ K_{\\ell \\ell^{\\prime}}-{}_- K_{\\ell \\ell^{\\prime}}) F_{\\ell^{\\prime}}^{EB} B_{\\ell^{\\prime}}^{2} \\mathcal{C}_{\\ell^{\\prime}}^{EB} \\chi_{b}\\left(\\ell^{\\prime}\\right) \\\\\n",
    "\\end{aligned}\n",
    "\\label{eq:cbl}\n",
    "\\end{equation}\n",
    "\n",
    "The shape operators, or \"Cee-bee-ells\" are simply understood to be the binned power we would expect given what we know of the coupling between our experiment and the sky. We have different shape expectations for the different signals we measure. Chiefly, the four that XFaster has currently implemented are CMB, dust, residual noise (that is, noise that is not accounted for in the noise simulation ensemble), and null signal. Each of these modifies the equation above somewhat, and we'll go into more detail about that further on in this guide.\n",
    "\n",
    "The signal component of the covariance can then be written as\n",
    "\n",
    "\\begin{equation}\n",
    "\\tilde{\\mathbf{S}}_\\ell=\n",
    "\\begin{bmatrix}\n",
    "\\sum_b q_b^{TT}\\tilde{\\mathcal{C}}_{b\\ell}^{TT} & \\sum_b q_b^{TE}\\tilde{\\mathcal{C}}_{b\\ell}^{TE} & \\sum_b q_b^{TB}\\tilde{\\mathcal{C}}_{b\\ell}^{TB} \\\\ \n",
    "-- & \\sum_b q_b^{EE} {}_+\\tilde{\\mathcal{C}}_{b\\ell}^{EE}+ \\sum_b q_b^{BB} {}_-\\tilde{\\mathcal{C}}_{b\\ell}^{BB} & \\sum_b q_b^{EB}\\tilde{\\mathcal{C}}_{b\\ell}^{EB} \\\\ \n",
    "-- & -- & \\sum_b q_b^{BB} {}_+\\tilde{\\mathcal{C}}_{b\\ell}^{BB}+ \\sum_b q_b^{EE} {}_-\\tilde{\\mathcal{C}}_{b\\ell}^{EE} \\\\ \n",
    "\\end{bmatrix}\n",
    "\\label{eq:signal}\n",
    "\\end{equation}"
   ]
  },
  {
   "cell_type": "markdown",
   "metadata": {},
   "source": [
    "To construct equations \\ref{eq:qb} and \\ref{eq:fisher}, we need to take the derivatives of equation \\ref{eq:signal} with respect to each $q_b$. It's straightforward to read off the derivative terms:\n",
    "\n",
    "\\begin{align}\n",
    "\\frac{\\partial \\tilde{\\mathbf{S}}_{\\ell}}{\\partial q_{b}^{TT}} &= \n",
    "   \\begin{bmatrix}\n",
    "   \\tilde{\\mathcal{C}}_{b\\ell}^{TT} & 0 & 0 \\\\ 0 & 0 & 0 \\\\ 0 & 0 & 0 \\\\\n",
    "   \\end{bmatrix}\n",
    "&\n",
    "\\frac{\\partial \\tilde{\\mathbf{S}}_{\\ell}}{\\partial q_{b}^{TE}} &= \n",
    "   \\begin{bmatrix}\n",
    "   0 & \\tilde{\\mathcal{C}}_{b\\ell}^{TE} & 0 \\\\ \\tilde{\\mathcal{C}}_{b\\ell}^{TE} & 0 & 0 \\\\ 0 & 0 & 0 \\\\\n",
    "   \\end{bmatrix} \n",
    "\\nonumber\n",
    "\\\\\n",
    "\\nonumber\n",
    "\\\\\n",
    "\\frac{\\partial \\tilde{\\mathbf{S}}_{\\ell}}{\\partial q_{b}^{EE}} &= \n",
    "   \\begin{bmatrix}\n",
    "   0 & 0 & 0 \\\\ 0 & {}_+\\tilde{\\mathcal{C}}_{b\\ell}^{EE} & 0 \\\\ 0 & 0 & {}_-\\tilde{\\mathcal{C}}_{b\\ell}^{EE} \\\\\n",
    "   \\end{bmatrix}\n",
    "&\n",
    "\\frac{\\partial \\tilde{\\mathbf{S}}_{\\ell}}{\\partial q_{b}^{BB}} &= \n",
    "   \\begin{bmatrix}\n",
    "   0 & 0 & 0 \\\\ 0 & {}_-\\tilde{\\mathcal{C}}_{b\\ell}^{BB} & 0 \\\\ 0 & 0 & {}_+\\tilde{\\mathcal{C}}_{b\\ell}^{BB} \\\\\n",
    "   \\end{bmatrix}\n",
    "\\label{eq:dsdqb}\n",
    "\\\\ \n",
    "\\nonumber\n",
    "\\\\\n",
    "\\frac{\\partial \\tilde{\\mathbf{S}}_{\\ell}}{\\partial q_{b}^{TB}} &= \n",
    "   \\begin{bmatrix}\n",
    "   0 & 0 & \\tilde{\\mathcal{C}}_{b\\ell}^{TB} \\\\ 0 & 0 & 0 \\\\ \\tilde{\\mathcal{C}}_{b\\ell}^{TB} & 0 & 0 \\\\\n",
    "   \\end{bmatrix}\n",
    "&\n",
    "\\frac{\\partial \\tilde{\\mathbf{S}}_{\\ell}}{\\partial q_{b}^{EB}} &= \n",
    "   \\begin{bmatrix}\n",
    "   0 & 0 & 0 \\\\ 0 & 0 & \\tilde{\\mathcal{C}}_{b\\ell}^{EB} \\\\ 0 & \\tilde{\\mathcal{C}}_{b\\ell}^{EB} & 0 \\\\\n",
    "   \\end{bmatrix} \n",
    "\\nonumber\n",
    "\\\\\n",
    "\\end{align}"
   ]
  },
  {
   "cell_type": "markdown",
   "metadata": {},
   "source": [
    "So now everything is set up that we need, and we just need to build the ingredients. The rest of this document will be how we get each of the terms, but the main engine of XFaster, once it has all the ingredients, is to iterate on equations \\ref{eq:qb} and \\ref{eq:fisher}. So,\n",
    "1. Start with an initial guess at the $q_b$s, which we set to be 1.\n",
    "2. Compute the Fisher matrix with Equation \\ref{eq:fisher}.\n",
    "3. Plug that into Equation \\ref{eq:qb} to get a new guess for $q_b$.\n",
    "4. Repeat until some convergence criterion is met.\n",
    "\n",
    "We can use all these same tools to also fit for the transfer function-- instead of using $\\tilde{\\mathbf{D}}_\\ell^{obs}-\\tilde{\\mathbf{N}}_\\ell$ for our measured signal spectrum, we just use the ensemble average of the signal simulations, and set $F_\\ell$ in Equation \\ref{eq:cbl} to be 1. Then, the $q_b$s that pop out are just the transfer function itelf, and the inverse Fisher matrix gives the error on the transfer function."
   ]
  },
  {
   "cell_type": "markdown",
   "metadata": {},
   "source": [
    "## The main ingredients of the XFaster code"
   ]
  },
  {
   "cell_type": "markdown",
   "metadata": {},
   "source": [
    "Before we get into the functions that produce each of the components that gets fed into equations \\ref{eq:qb} and \\ref{eq:fisher}, let's first talk about how XFaster is structured and what it expects as inputs.\n",
    "\n",
    "There are two main python modules in XFaster: `xfaster_exec.py` and `xfaster_class.py`. `xfaster_exec` was written to mirror `unimap_exec`. It contains two main functions: `xfaster_run` and `xfaster_submit`. `xfaster_run` calls all of the functions to make XFaster happen (all located in `xfaster_class`) in the order they need to happen. `xfaster_submit` takes arguments for submitting the job to a queue. XFaster is not highly parallelized like `unimap`. The only real benefit it can get from using multiple cores is through the OMP speed up from numpy matrix operations. Therefore, unless you're drowning in more cores than you know what to do with, I would recommend only using one core for XFaster jobs, and splitting things up as best you can in other ways (ie, if running sims, have a handful of sims per job instead of running them all in series). \n",
    "\n",
    "There are a few other modules you might interact with: \n",
    "* `xfaster_tools.py`: contains small functions used in xfaster_class\n",
    "* `parse_tools.py`: contains a bunch of tools for converting between data structures, especially between dictionaries and matrices\n",
    "* `output_class.py`: contains tools for parsing data on disk for post-processing. This will only be very useful if you're looking at XFaster outputs created prior to July 22, 2019, when things were stored as arrays instead of dictionaries. We would now recommend loading the outputs directly with `xfaster.load_and_parse('<output>.npz')` and grabbing things in the dictionaries there. This is illustrated in the last section of this document."
   ]
  },
  {
   "cell_type": "markdown",
   "metadata": {},
   "source": [
    "## Specifying what data to use"
   ]
  },
  {
   "cell_type": "markdown",
   "metadata": {},
   "source": [
    "So the top level thing you interact with is `xfaster_exec`, which takes your arguments, and has some reasonable defaults for any you don't provide. What does it take other than arguments? Maps! It wants a bunch of signal and noise simulations, in addition to the data maps and masks. Rather than pointing to each map individually, we have a directory structure that the code expects. I've put the ensemble on labah, and its contents look like this:"
   ]
  },
  {
   "cell_type": "code",
   "execution_count": null,
   "metadata": {},
   "outputs": [],
   "source": [
    "ls ../maps_example"
   ]
  },
  {
   "cell_type": "markdown",
   "metadata": {},
   "source": [
    "Each of data, signal, noise, and mask has a top level directory with a preordained, fixed prefix (`data`, `signal`, `noise`, `mask`) and then some suffix specified by the user which is appended with an underscore. So, for example, to run XFaster on this set of maps, I need to specify in my arguments: `clean_type=raw` (this is a confusing name for a variable, but just remember this designates the data type), `signal_type=flatBBDl`, `noise_type=stationary`, `mask_type=pointsource_latlon_aphalfdeg`.\n",
    "\n",
    "Masks have to be named a certain way within the directory (`mask_map_<tag>.fits`) and have to contain both an I and P mask if running XFaster in polarized mode (which you should always be doing). We have always used the same mask for I and P, but it's not required. You must have a mask file for each map tag, so if I'm doing a run with maps for 90 and 150 GHz maps, I need a mask for each of those, even if it's the same mask. You can use symlinks to save on disk space in that case.\n",
    "\n",
    "To indicate which maps I want, I pass the argument `data_subset` a glob-parseable path relative to the top level data directory-- in this case, `data_raw`. [Glob](https://docs.python.org/3/library/glob.html) works just like the unix shell does for matching file paths, so it is easy to test in advance which maps you're going to get. Say I want to do a 150 GHz spectrum using the quarter chunks. I'm going to test this first!"
   ]
  },
  {
   "cell_type": "code",
   "execution_count": null,
   "metadata": {},
   "outputs": [],
   "source": [
    "ls ../maps_example/data_raw/*150* #nope"
   ]
  },
  {
   "cell_type": "code",
   "execution_count": null,
   "metadata": {},
   "outputs": [],
   "source": [
    "ls ../maps_example/data_raw/*/*150* #yep-- data_subset='*/*150*' "
   ]
  },
  {
   "cell_type": "markdown",
   "metadata": {},
   "source": [
    "Or instead, if I want to run over all the maps, I would do"
   ]
  },
  {
   "cell_type": "code",
   "execution_count": null,
   "metadata": {},
   "outputs": [],
   "source": [
    "ls ../maps_example/data_raw/*/* # data_subset='*/*'"
   ]
  },
  {
   "cell_type": "markdown",
   "metadata": {},
   "source": [
    "This is all implemented in `_get_files` like so:\n",
    "```python\n",
    "# find all map files\n",
    "map_root = os.path.join(data_root, 'data_{}'.format(clean_type))\n",
    "map_files = []\n",
    "data_subset = data_subset.split(\",\")\n",
    "for f in np.atleast_1d(data_subset):\n",
    "    map_files.extend(glob.glob(os.path.join(map_root,\n",
    "                                            '{}.fits'.format(f))))\n",
    "map_files = sorted(map_files)\n",
    "map_files = [f for f in map_files if\n",
    "             os.path.basename(f).startswith('map_')]\n",
    "map_tags = [os.path.splitext(os.path.basename(f))[0].split('_', 1)[1]\n",
    "            for f in map_files]\n",
    "```\n",
    "So you've specified which data maps you want to compute power spectra for. A reasonable question would be, does that globbable expression then just get applied to the signal and noise directory to get signal and noise maps? If it did, that would mean my first expression for the 150 GHz maps would also get every 150th sim. Instead, XFaster uses whatever matches it found in data, and tries to match those to maps in the sims directory, with the only difference the sim index that's appended. Here's what that looks like for signal sims, in the same function:\n",
    "```python\n",
    "# find all corresponding signal sims\n",
    "signal_root = os.path.join(data_root, 'signal_{}'.format(signal_type))\n",
    "num_signal = None\n",
    "signal_files = []\n",
    "for f in map_files:\n",
    "    sfiles = sorted(glob.glob(\n",
    "        f.replace(map_root, signal_root).replace(\n",
    "            '.fits', '_{}.fits'.format(signal_subset))))\n",
    "    nsims1 = len(sfiles)\n",
    "    if not nsims1:\n",
    "        raise OSError('Missing signal sims for {}'.format(f))\n",
    "    num_signal = nsims1\n",
    "    signal_files.append(sfiles)\n",
    "```"
   ]
  },
  {
   "cell_type": "markdown",
   "metadata": {},
   "source": [
    "It's easy to get errors at the reading files step. Add log messages around here to see what's going wrong. XFaster requires that all your maps have the same number of sims, though you are allowed to have a different from of signal and noise sims. In the labah data set, I have 1000 signal and noise sims for SPIDER, but only 200 of each for Planck. So I need to tell XFaster to only use the first 200 signal and noise sims it finds. I can do that using the `signal_subset` and `noise_subset` arguments, which default to `'*'`. Now, I need to specify (in a glob-parseable manner) which tags that come after `map_90_`, eg, to use. Each sim is indexed with four digits, so `map_90_0000.fits, map_90_0001.fits`, etc. If I want the first 200 of each sim, I'm first going to test my expression (I'm piping it into a line count to reduce the output, but you don't have to):"
   ]
  },
  {
   "cell_type": "code",
   "execution_count": null,
   "metadata": {},
   "outputs": [],
   "source": [
    "ls ../maps_example/signal_synfast/full/map_95_0[0-1] | wc -l # this won't work"
   ]
  },
  {
   "cell_type": "code",
   "execution_count": null,
   "metadata": {},
   "outputs": [],
   "source": [
    "ls ../maps_example/signal_synfast/full/map_95_0[0-1]* | wc -l # yep! signal_subset='0[0-1]*';"
   ]
  },
  {
   "cell_type": "markdown",
   "metadata": {},
   "source": [
    "## Step by step through the functions called in xfaster_exec"
   ]
  },
  {
   "cell_type": "markdown",
   "metadata": {},
   "source": [
    "Now we'll proceed to stepping through each function in xfaster_exec. You'll never run the code this way, you'll just call xfaster_run or xfaster_submit with the arguments that then get passed to these functions. But we'll do it this way so we can illustrate some of the intermediate data products as we go.\n",
    "\n",
    "I'll do a run with all six SPIDER and Planck frequencies. First, we'll import XFaster and initialize our XFaster class with some arguments."
   ]
  },
  {
   "cell_type": "code",
   "execution_count": null,
   "metadata": {},
   "outputs": [],
   "source": [
    "import xfaster as xf\n",
    "import matplotlib.pyplot as plt\n",
    "from matplotlib import colors\n",
    "import numpy as np"
   ]
  },
  {
   "cell_type": "code",
   "execution_count": null,
   "metadata": {},
   "outputs": [],
   "source": [
    "X = xf.XFaster(config='../config_example.ini', output_root='../outputs_example')"
   ]
  },
  {
   "cell_type": "code",
   "execution_count": null,
   "metadata": {},
   "outputs": [],
   "source": []
  }
 ],
 "metadata": {
  "kernelspec": {
   "display_name": "Python 3",
   "language": "python",
   "name": "python3"
  },
  "language_info": {
   "codemirror_mode": {
    "name": "ipython",
    "version": 3
   },
   "file_extension": ".py",
   "mimetype": "text/x-python",
   "name": "python",
   "nbconvert_exporter": "python",
   "pygments_lexer": "ipython3",
   "version": "3.8.2"
  },
  "toc": {
   "base_numbering": 1,
   "nav_menu": {},
   "number_sections": true,
   "sideBar": true,
   "skip_h1_title": true,
   "title_cell": "Table of Contents",
   "title_sidebar": "Contents",
   "toc_cell": false,
   "toc_position": {
    "height": "calc(100% - 180px)",
    "left": "10px",
    "top": "150px",
    "width": "239.35px"
   },
   "toc_section_display": true,
   "toc_window_display": false
  }
 },
 "nbformat": 4,
 "nbformat_minor": 2
}
